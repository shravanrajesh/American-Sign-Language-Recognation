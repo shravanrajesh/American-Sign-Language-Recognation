{
 "cells": [
  {
   "cell_type": "markdown",
   "metadata": {},
   "source": [
    "# Training a Model for ASL Recognation\n",
    "\n",
    "Using Multi- layerd Convolutional Neural Network\n"
   ]
  },
  {
   "cell_type": "markdown",
   "metadata": {},
   "source": [
    "### Part I - Building the CNN"
   ]
  },
  {
   "cell_type": "code",
   "execution_count": 1,
   "metadata": {},
   "outputs": [],
   "source": [
    "# Importing the Keras libraries and packages\n",
    "from keras.models import Sequential\n",
    "from keras.layers import Conv2D\n",
    "from keras.layers import MaxPooling2D\n",
    "from keras.layers import Flatten\n",
    "from keras.layers import Dense\n",
    "from keras.layers import Dropout\n",
    "from keras import optimizers"
   ]
  },
  {
   "cell_type": "code",
   "execution_count": 2,
   "metadata": {},
   "outputs": [],
   "source": [
    "# Initialing the CNN\n",
    "classifier = Sequential()\n",
    "\n",
    "# Step 1 - Convolution Layer \n",
    "classifier.add(Conv2D(32, (3, 3), input_shape = (64, 64, 3), activation = 'relu'))\n",
    "\n",
    "# Step 2 - Pooling\n",
    "classifier.add(MaxPooling2D(pool_size =(2,2)))\n",
    "\n",
    "# Adding 2nd Convolution layer\n",
    "classifier.add(Conv2D(32, (3, 3), padding=\"same\", activation=\"relu\"))\n",
    "classifier.add(MaxPooling2D(pool_size =(2,2)))\n",
    "\n",
    "#Adding 3rd Convolution Layer\n",
    "classifier.add(Conv2D(64, (3, 3), padding=\"same\", activation=\"relu\"))\n",
    "classifier.add(MaxPooling2D(pool_size =(2,2)))\n",
    "\n",
    "\n",
    "# Step 3 - Flattening\n",
    "classifier.add(Flatten())\n",
    "\n",
    "# Step 4 - Full Connection\n",
    "classifier.add(Dense(256, activation = 'relu'))\n",
    "classifier.add(Dropout(0.5))\n",
    "classifier.add(Dense(26, activation = 'softmax'))\n",
    "\n",
    "#Compiling The CNN\n",
    "classifier.compile(\n",
    "              optimizer = optimizers.SGD(lr = 0.01),\n",
    "              loss = 'categorical_crossentropy',\n",
    "              metrics = ['accuracy'])"
   ]
  },
  {
   "cell_type": "markdown",
   "metadata": {},
   "source": [
    "### Part II - Fittting the CNN to the image"
   ]
  },
  {
   "cell_type": "code",
   "execution_count": 3,
   "metadata": {},
   "outputs": [],
   "source": [
    "from keras.preprocessing.image import ImageDataGenerator\n",
    "train_datagen = ImageDataGenerator(\n",
    "        rescale=1./255,\n",
    "        shear_range=0.2,\n",
    "        zoom_range=0.2,\n",
    "        horizontal_flip=True)\n",
    "\n",
    "test_datagen = ImageDataGenerator(rescale=1./255)"
   ]
  },
  {
   "cell_type": "code",
   "execution_count": 4,
   "metadata": {},
   "outputs": [
    {
     "name": "stdout",
     "output_type": "stream",
     "text": [
      "Found 45500 images belonging to 26 classes.\n",
      "Found 6500 images belonging to 26 classes.\n",
      "Epoch 1/25\n",
      "800/800 [==============================] - ETA: 0s - loss: 1.9829 - accuracy: 0.3965WARNING:tensorflow:Your input ran out of data; interrupting training. Make sure that your dataset or generator can generate at least `steps_per_epoch * epochs` batches (in this case, 6500 batches). You may need to use the repeat() function when building your dataset.\n",
      "800/800 [==============================] - 432s 540ms/step - loss: 1.9829 - accuracy: 0.3965 - val_loss: 0.4893 - val_accuracy: 0.8882\n",
      "Epoch 2/25\n",
      "800/800 [==============================] - 234s 292ms/step - loss: 0.6460 - accuracy: 0.7867\n",
      "Epoch 3/25\n",
      "800/800 [==============================] - 191s 239ms/step - loss: 0.4028 - accuracy: 0.8622\n",
      "Epoch 4/25\n",
      "800/800 [==============================] - 124s 155ms/step - loss: 0.3126 - accuracy: 0.8922\n",
      "Epoch 5/25\n",
      "800/800 [==============================] - 114s 143ms/step - loss: 0.2622 - accuracy: 0.9095\n",
      "Epoch 6/25\n",
      "800/800 [==============================] - 96s 119ms/step - loss: 0.2118 - accuracy: 0.9278\n",
      "Epoch 7/25\n",
      "800/800 [==============================] - 94s 118ms/step - loss: 0.1799 - accuracy: 0.9364\n",
      "Epoch 8/25\n",
      "800/800 [==============================] - 87s 108ms/step - loss: 0.1740 - accuracy: 0.9396\n",
      "Epoch 9/25\n",
      "800/800 [==============================] - 94s 118ms/step - loss: 0.1486 - accuracy: 0.9469\n",
      "Epoch 10/25\n",
      "800/800 [==============================] - 93s 116ms/step - loss: 0.1395 - accuracy: 0.9506\n",
      "Epoch 11/25\n",
      "800/800 [==============================] - 106s 132ms/step - loss: 0.1322 - accuracy: 0.9526\n",
      "Epoch 12/25\n",
      "800/800 [==============================] - 169s 211ms/step - loss: 0.1168 - accuracy: 0.9594\n",
      "Epoch 13/25\n",
      "800/800 [==============================] - 171s 214ms/step - loss: 0.1080 - accuracy: 0.9611 - loss: 0.1080 - accuracy: \n",
      "Epoch 14/25\n",
      "800/800 [==============================] - 164s 206ms/step - loss: 0.0982 - accuracy: 0.9676\n",
      "Epoch 15/25\n",
      "800/800 [==============================] - 177s 221ms/step - loss: 0.0956 - accuracy: 0.9668\n",
      "Epoch 16/25\n",
      "800/800 [==============================] - 173s 216ms/step - loss: 0.0884 - accuracy: 0.9694\n",
      "Epoch 17/25\n",
      "800/800 [==============================] - 170s 213ms/step - loss: 0.0892 - accuracy: 0.9687\n",
      "Epoch 18/25\n",
      "800/800 [==============================] - 193s 242ms/step - loss: 0.0758 - accuracy: 0.9736\n",
      "Epoch 19/25\n",
      "800/800 [==============================] - 184s 230ms/step - loss: 0.0760 - accuracy: 0.9729\n",
      "Epoch 20/25\n",
      "800/800 [==============================] - 179s 224ms/step - loss: 0.0718 - accuracy: 0.9748\n",
      "Epoch 21/25\n",
      "800/800 [==============================] - 184s 230ms/step - loss: 0.0706 - accuracy: 0.9750\n",
      "Epoch 22/25\n",
      "800/800 [==============================] - 191s 238ms/step - loss: 0.0659 - accuracy: 0.9781\n",
      "Epoch 23/25\n",
      "800/800 [==============================] - 232s 290ms/step - loss: 0.0635 - accuracy: 0.9785\n",
      "Epoch 24/25\n",
      "800/800 [==============================] - 229s 286ms/step - loss: 0.0596 - accuracy: 0.9800\n",
      "Epoch 25/25\n",
      "800/800 [==============================] - 208s 260ms/step - loss: 0.0589 - accuracy: 0.9794\n"
     ]
    }
   ],
   "source": [
    "training_set = train_datagen.flow_from_directory(\n",
    "        'training_set',\n",
    "        target_size=(64, 64),\n",
    "        batch_size=32,\n",
    "        class_mode='categorical')\n",
    "\n",
    "test_set = test_datagen.flow_from_directory(\n",
    "        'test_set',\n",
    "        target_size=(64, 64),\n",
    "        batch_size=32,\n",
    "        class_mode='categorical')\n",
    "\n",
    "model = classifier.fit(\n",
    "        training_set,\n",
    "        steps_per_epoch=800,\n",
    "        epochs=25,\n",
    "        validation_data = test_set,\n",
    "        validation_steps = 6500\n",
    "      )\n"
   ]
  },
  {
   "cell_type": "markdown",
   "metadata": {},
   "source": [
    "### Part III - Saving and Using the model"
   ]
  },
  {
   "cell_type": "code",
   "execution_count": 5,
   "metadata": {},
   "outputs": [],
   "source": [
    "import h5py\n",
    "classifier.save('Trained_model.h5')"
   ]
  },
  {
   "cell_type": "code",
   "execution_count": 6,
   "metadata": {},
   "outputs": [
    {
     "name": "stdout",
     "output_type": "stream",
     "text": [
      "dict_keys(['loss', 'accuracy', 'val_loss', 'val_accuracy'])\n"
     ]
    },
    {
     "data": {
      "image/png": "[encoded data removed]",
      "text/plain": [
       "<Figure size 432x288 with 1 Axes>"
      ]
     },
     "metadata": {
      "needs_background": "light"
     },
     "output_type": "display_data"
    }
   ],
   "source": [
    "print(model.history.keys())\n",
    "import matplotlib.pyplot as plt\n",
    "# summarize history for accuracy\n",
    "plt.plot(model.history['accuracy'])\n",
    "plt.plot(model.history['val_accuracy'])\n",
    "plt.title('model accuracy')\n",
    "plt.ylabel('accuracy')\n",
    "plt.xlabel('epoch')\n",
    "plt.legend(['train', 'test'], loc='upper left')\n",
    "plt.show()"
   ]
  },
  {
   "cell_type": "code",
   "execution_count": 7,
   "metadata": {},
   "outputs": [
    {
     "data": {
      "image/png": "[encoded data removed]",
      "text/plain": [
       "<Figure size 432x288 with 1 Axes>"
      ]
     },
     "metadata": {
      "needs_background": "light"
     },
     "output_type": "display_data"
    }
   ],
   "source": [
    "# summarize history for loss\n",
    "\n",
    "plt.plot(model.history['loss'])\n",
    "plt.plot(model.history['val_loss'])\n",
    "plt.title('model loss')\n",
    "plt.ylabel('loss')\n",
    "plt.xlabel('epoch')\n",
    "plt.legend(['train', 'test'], loc='upper left')\n",
    "plt.show()"
   ]
  }
 ],
 "metadata": {
  "kernelspec": {
   "display_name": "Python 3",
   "language": "python",
   "name": "python3"
  },
  "language_info": {
   "codemirror_mode": {
    "name": "ipython",
    "version": 3
   },
   "file_extension": ".py",
   "mimetype": "text/x-python",
   "name": "python",
   "nbconvert_exporter": "python",
   "pygments_lexer": "ipython3",
   "version": "3.8.3"
  }
 },
 "nbformat": 4,
 "nbformat_minor": 4
}
